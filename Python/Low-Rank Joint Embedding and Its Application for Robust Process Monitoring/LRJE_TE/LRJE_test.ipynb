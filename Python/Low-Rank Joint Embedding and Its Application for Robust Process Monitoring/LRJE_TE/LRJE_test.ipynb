{
 "cells": [
  {
   "metadata": {
    "ExecuteTime": {
     "end_time": "2024-11-04T12:40:11.677723Z",
     "start_time": "2024-11-04T12:40:11.660708Z"
    }
   },
   "cell_type": "code",
   "source": [
    "import numpy as np\n",
    "\n",
    "# 定义 P 和 X_train\n",
    "P = np.random.normal(size=(500, 52))  # 假设降维到30维\n",
    "X_train = np.random.normal(size=(500, 52))\n",
    "X_new = np.random.normal(size=(960, 52))"
   ],
   "id": "8f762e8707a4500b",
   "outputs": [],
   "execution_count": 20
  },
  {
   "metadata": {
    "ExecuteTime": {
     "end_time": "2024-11-04T12:40:12.862608Z",
     "start_time": "2024-11-04T12:40:12.854604Z"
    }
   },
   "cell_type": "code",
   "source": [
    "# 计算 Y_train\n",
    "Y_train = P.T @ X_train"
   ],
   "id": "3c3b5c15b7a8f485",
   "outputs": [],
   "execution_count": 21
  }
 ],
 "metadata": {
  "kernelspec": {
   "display_name": "Python 3",
   "language": "python",
   "name": "python3"
  },
  "language_info": {
   "codemirror_mode": {
    "name": "ipython",
    "version": 2
   },
   "file_extension": ".py",
   "mimetype": "text/x-python",
   "name": "python",
   "nbconvert_exporter": "python",
   "pygments_lexer": "ipython2",
   "version": "2.7.6"
  }
 },
 "nbformat": 4,
 "nbformat_minor": 5
}
