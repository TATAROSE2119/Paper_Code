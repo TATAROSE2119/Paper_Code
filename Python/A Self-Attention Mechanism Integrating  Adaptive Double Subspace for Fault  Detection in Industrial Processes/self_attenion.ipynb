{
 "cells": [
  {
   "metadata": {
    "ExecuteTime": {
     "end_time": "2024-11-12T02:35:51.688954Z",
     "start_time": "2024-11-12T02:35:51.527415Z"
    }
   },
   "cell_type": "code",
   "source": [
    "import numpy as np\n",
    "\n",
    "def soft_max(z):\n",
    "    t = np.exp(z)\n",
    "    a = np.exp(z) / np.expand_dims(np.sum(t, axis=1), 1)\n",
    "    return a\n",
    "\n",
    "Query = np.array([\n",
    "    [1,0,2],\n",
    "    [2,2,2],\n",
    "    [2,1,3]\n",
    "])\n",
    "\n",
    "Key = np.array([\n",
    "    [0,1,1],\n",
    "    [4,4,0],\n",
    "    [2,3,1]\n",
    "])\n",
    "\n",
    "Value = np.array([\n",
    "    [1,2,3],\n",
    "    [2,8,0],\n",
    "    [2,6,3]\n",
    "])\n",
    "\n",
    "scores = Query @ Key.T\n",
    "print(scores)\n",
    "scores = soft_max(scores)\n",
    "print(scores)\n",
    "out = scores @ Value\n",
    "print(out)\n"
   ],
   "id": "bc088d7d819ce327",
   "outputs": [
    {
     "name": "stdout",
     "output_type": "stream",
     "text": [
      "[[ 2  4  4]\n",
      " [ 4 16 12]\n",
      " [ 4 12 10]]\n",
      "[[6.33789383e-02 4.68310531e-01 4.68310531e-01]\n",
      " [6.03366485e-06 9.82007865e-01 1.79861014e-02]\n",
      " [2.95387223e-04 8.80536902e-01 1.19167711e-01]]\n",
      "[[1.93662106 6.68310531 1.59506841]\n",
      " [1.99999397 7.9639916  0.05397641]\n",
      " [1.99970461 7.75989225 0.35838929]]\n"
     ]
    }
   ],
   "execution_count": 1
  }
 ],
 "metadata": {
  "kernelspec": {
   "display_name": "Python 3",
   "language": "python",
   "name": "python3"
  },
  "language_info": {
   "codemirror_mode": {
    "name": "ipython",
    "version": 2
   },
   "file_extension": ".py",
   "mimetype": "text/x-python",
   "name": "python",
   "nbconvert_exporter": "python",
   "pygments_lexer": "ipython2",
   "version": "2.7.6"
  }
 },
 "nbformat": 4,
 "nbformat_minor": 5
}
